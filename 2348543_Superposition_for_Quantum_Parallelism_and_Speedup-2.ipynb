{
  "cells": [
    {
      "cell_type": "code",
      "source": [
        "!pip install tabulate\n"
      ],
      "metadata": {
        "colab": {
          "base_uri": "https://localhost:8080/"
        },
        "id": "pZjihkEmZwk9",
        "outputId": "331caf45-c8b6-4a5a-f111-b052bce41a6d"
      },
      "execution_count": 1,
      "outputs": [
        {
          "output_type": "stream",
          "name": "stdout",
          "text": [
            "Requirement already satisfied: tabulate in /usr/local/lib/python3.10/dist-packages (0.9.0)\n"
          ]
        }
      ]
    },
    {
      "cell_type": "markdown",
      "metadata": {
        "id": "HehwQuSzXtUU"
      },
      "source": [
        "# Quantum Speedup using Superposition\n",
        "\n",
        "##Raghav Suri 2348543\n"
      ]
    },
    {
      "cell_type": "markdown",
      "metadata": {
        "id": "U4lklHA2XtUV"
      },
      "source": [
        "## How does quantum computing differ from ..computing?\n",
        "\n",
        "The fundamental difference between a regular computer and a quantum computer is the physics. A regular computer's bits can be in a state of 0 or 1. A quantum computer's *qubits* can be in a state of 0 and 1 simultaneously. We don't know the state of the qubit until we measure it (think Schrodinger's cat).\n",
        "\n",
        "However, unlike schrodinger's cat, the qubit (qu-cat?) can be both dead and alive even after we open the box (or measure).\n",
        "\n",
        "Measurement of a qubit *collapses* the qubit into 0 or 1 with a certain probability."
      ]
    },
    {
      "cell_type": "markdown",
      "metadata": {
        "id": "gXiEN2hqXtUW"
      },
      "source": [
        "Let's write some code to represent a set of Qubits:"
      ]
    },
    {
      "cell_type": "code",
      "execution_count": 2,
      "metadata": {
        "id": "YzOANsLtXtUW"
      },
      "outputs": [],
      "source": [
        "import math, random\n",
        "from tabulate import tabulate\n",
        "\n",
        "class QubitSet:\n",
        "\n",
        "    def __init__(self, amplitudes):\n",
        "        # The amplitude is an artifact from the wave nature of\n",
        "        # quantum particles.\n",
        "        self.amplitudes = amplitudes\n",
        "        # Probability here is the likelihood of getting that\n",
        "        # state when we measure the qubit. Probability and\n",
        "        # amplitude obey the relation:\n",
        "        # probability = amplitude².\n",
        "        self.probabilities = list(map(\n",
        "            lambda amplitude: math.pow(amplitude, 2), amplitudes))\n",
        "\n",
        "    def numStates(self):\n",
        "        return len(self.amplitudes)\n",
        "\n",
        "    def pprint(self):\n",
        "        tabular_data = []\n",
        "        for i in range(self.numStates()):\n",
        "            tabular_data.append([i, self.amplitudes[i],\n",
        "                                 self.probabilities[i]])\n",
        "        print(tabulate(tabular_data,\n",
        "                       headers=['State', 'Amplitude', 'Probability']))\n",
        "\n",
        "    def measure(self):\n",
        "        # Simulate the measurement of a qubit state. When measured,\n",
        "        # the state is returned with it's corresponding probability.\n",
        "        return random.choices(range(self.numStates()),\n",
        "                              weights=(self.probabilities), k=1)[0]"
      ]
    },
    {
      "cell_type": "markdown",
      "metadata": {
        "id": "CnzW_vUzXtUX"
      },
      "source": [
        "The `QubitSet` class above defines a set of quantum states, like a register of qubits.  \n",
        "\n",
        "It's useful to think of a quantum state in terms of a probability distribution:"
      ]
    },
    {
      "cell_type": "code",
      "execution_count": 3,
      "metadata": {
        "colab": {
          "base_uri": "https://localhost:8080/"
        },
        "id": "9JO0b4xpXtUX",
        "outputId": "4ded577f-5d49-4b66-a0a7-2e40a136b3a9"
      },
      "outputs": [
        {
          "output_type": "stream",
          "name": "stdout",
          "text": [
            "  State    Amplitude    Probability\n",
            "-------  -----------  -------------\n",
            "      0            0              0\n",
            "      1            1              1\n"
          ]
        }
      ],
      "source": [
        "q = QubitSet([0, 1])\n",
        "q.pprint()"
      ]
    },
    {
      "cell_type": "markdown",
      "metadata": {
        "id": "Uv-mM5KIXtUY"
      },
      "source": [
        "When measured, `q` would be found in the `|1>` state with a probability of 1.\n",
        "\n",
        "**Note**: Quantum states are represented by putting them between `|>`."
      ]
    },
    {
      "cell_type": "code",
      "execution_count": 4,
      "metadata": {
        "colab": {
          "base_uri": "https://localhost:8080/"
        },
        "id": "B0EWnlZAXtUY",
        "outputId": "a98dd201-58a5-47b5-a9e2-861f9d96f5f8"
      },
      "outputs": [
        {
          "output_type": "stream",
          "name": "stdout",
          "text": [
            "\n",
            "Is the cat dead or alive?\n",
            "\n",
            "Alive :)\n",
            "Alive :)\n",
            "Alive :)\n",
            "Alive :)\n",
            "Alive :)\n",
            "Alive :)\n",
            "Alive :)\n",
            "Alive :)\n",
            "Alive :)\n",
            "Alive :)\n"
          ]
        }
      ],
      "source": [
        "print(\"\\nIs the cat dead or alive?\\n\")\n",
        "for i in range(10):\n",
        "    if q.measure():\n",
        "        print(\"Alive :)\")\n",
        "    else:\n",
        "        print(\"Dead  :x\")"
      ]
    },
    {
      "cell_type": "markdown",
      "metadata": {
        "id": "IpxZC23UXtUY"
      },
      "source": [
        "`q` here behaves exactly like a regular 1 bit. But we could do something more interesting with qubits!"
      ]
    },
    {
      "cell_type": "code",
      "execution_count": 5,
      "metadata": {
        "colab": {
          "base_uri": "https://localhost:8080/"
        },
        "id": "pEeZJsDfXtUY",
        "outputId": "9d94db90-e4a4-46f5-95c2-e94e5ba8e547"
      },
      "outputs": [
        {
          "output_type": "stream",
          "name": "stdout",
          "text": [
            "  State    Amplitude    Probability\n",
            "-------  -----------  -------------\n",
            "      0          0.6           0.36\n",
            "      1          0.8           0.64\n",
            "\n",
            "Is the qu-cat dead or alive?\n",
            "\n",
            "Dead  :x\n",
            "Dead  :x\n",
            "Dead  :x\n",
            "Dead  :x\n",
            "Alive :)\n",
            "Alive :)\n",
            "Dead  :x\n",
            "Alive :)\n",
            "Alive :)\n",
            "Dead  :x\n"
          ]
        }
      ],
      "source": [
        "realQ = QubitSet([0.6, 0.8])\n",
        "realQ.pprint()\n",
        "print(\"\\nIs the qu-cat dead or alive?\\n\")\n",
        "for i in range(10):\n",
        "    if realQ.measure():\n",
        "        print(\"Alive :)\")\n",
        "    else:\n",
        "        print(\"Dead  :x\")"
      ]
    },
    {
      "cell_type": "markdown",
      "metadata": {
        "id": "UI8bLpRvXtUZ"
      },
      "source": [
        "**Note**: No cats or qu-cats were harmed while writing this article."
      ]
    },
    {
      "cell_type": "markdown",
      "metadata": {
        "id": "n2aSPBJXXtUZ"
      },
      "source": [
        "It's not a coincidence that the probabilities of both states sum upto 1. It's a requirement, since the qubit can only be found in one of the 2 states after measurement.\n",
        "\n",
        "We can observe that a qubit actually captures 2 regular states (0, 1). This can be extended to show that an n-qubit quantum state captures 2ⁿ regular states. This property of qubits is known as **superposition**.\n",
        "\n",
        "The physics of a qubit allow it to remain in superposition of it's individual states, while a regular bit cannot **stably** stay in a superposed state.\n",
        "\n",
        "\n",
        "> **All quantum algorithms leverage superposition to operate on multiple quantum states in parallel to achieve speedup.**\n",
        "\n"
      ]
    },
    {
      "cell_type": "markdown",
      "metadata": {
        "id": "8uSVysPAXtUZ"
      },
      "source": [
        "Another interesting property of qubits is their ability to **interfere**. When we combine two qubits (using a quantum gate), they may interfere *constructively* or *destructively*."
      ]
    },
    {
      "cell_type": "markdown",
      "metadata": {
        "id": "KbYOo0pUXtUZ"
      },
      "source": [
        "![interference.png](data:image/png;base64,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)\n",
        "\n",
        "> It's easier to understand interference by considering qubits as waves."
      ]
    },
    {
      "cell_type": "markdown",
      "metadata": {
        "id": "Y7hJK9BfXtUZ"
      },
      "source": [
        "In order to form an intuition for qubit interference, let's consider a coin flip experiment. For a typical coin, the probability of getting a heads or tails on a flip is 1/2.   \n",
        "\n",
        "Now let's consider a quantum coin. Let's say we begin with the coin facing heads up."
      ]
    },
    {
      "cell_type": "code",
      "execution_count": 6,
      "metadata": {
        "colab": {
          "base_uri": "https://localhost:8080/"
        },
        "id": "spcDqanKXtUa",
        "outputId": "69077887-18b7-4aed-eb83-e22593932209"
      },
      "outputs": [
        {
          "output_type": "stream",
          "name": "stdout",
          "text": [
            "  State    Amplitude    Probability\n",
            "-------  -----------  -------------\n",
            "      0            1              1\n",
            "      1            0              0\n"
          ]
        }
      ],
      "source": [
        "# Here |0> represents head, and |1> represents tail\n",
        "initialState = QubitSet([1, 0])\n",
        "initialState.pprint()"
      ]
    },
    {
      "cell_type": "markdown",
      "metadata": {
        "id": "wGZWpw1SXtUa"
      },
      "source": [
        "We flip the coin by applying a quantum gate (similar to logic gates) called [Hadamard](https://en.wikipedia.org/wiki/Quantum_logic_gate#Hadamard_(H)_gate). The Hadamard gate brings the coin into a uniform superposition state (all outcomes are measured with equal probability)."
      ]
    },
    {
      "cell_type": "code",
      "execution_count": 7,
      "metadata": {
        "id": "GshH2a3iXtUa"
      },
      "outputs": [],
      "source": [
        "def hadamard2InputStates(qubitSet):\n",
        "    assert(qubitSet.numStates() == 2)\n",
        "    one_over_root_2 = 1/math.pow(2, 1/2)\n",
        "    return QubitSet([one_over_root_2*qubitSet.amplitudes[0] +\n",
        "                     one_over_root_2*qubitSet.amplitudes[1],\n",
        "                     one_over_root_2*qubitSet.amplitudes[0] -\n",
        "                     one_over_root_2*qubitSet.amplitudes[1]])"
      ]
    },
    {
      "cell_type": "code",
      "execution_count": 8,
      "metadata": {
        "colab": {
          "base_uri": "https://localhost:8080/"
        },
        "id": "dZ93tWWOXtUa",
        "outputId": "ae8b2665-14c1-4195-9436-777ec8284a4f"
      },
      "outputs": [
        {
          "output_type": "stream",
          "name": "stdout",
          "text": [
            "  State    Amplitude    Probability\n",
            "-------  -----------  -------------\n",
            "      0     0.707107            0.5\n",
            "      1     0.707107            0.5\n"
          ]
        }
      ],
      "source": [
        "firstHadamard = hadamard2InputStates(initialState)\n",
        "firstHadamard.pprint()"
      ]
    },
    {
      "cell_type": "markdown",
      "metadata": {
        "id": "Gs1KgaBQXtUb"
      },
      "source": [
        "So far the quantum coin behaves exactly like a regular coin.\n",
        "\n",
        "But when we flip the coin again by applying the same Hadamard gate, we notice something different:"
      ]
    },
    {
      "cell_type": "code",
      "execution_count": 9,
      "metadata": {
        "colab": {
          "base_uri": "https://localhost:8080/"
        },
        "id": "RbXweTBAXtUb",
        "outputId": "04241257-0713-4235-cf2e-18b9b415056f"
      },
      "outputs": [
        {
          "output_type": "stream",
          "name": "stdout",
          "text": [
            "  State    Amplitude    Probability\n",
            "-------  -----------  -------------\n",
            "      0            1              1\n",
            "      1            0              0\n"
          ]
        }
      ],
      "source": [
        "secondHadamard = hadamard2InputStates(firstHadamard)\n",
        "secondHadamard.pprint()"
      ]
    },
    {
      "cell_type": "markdown",
      "metadata": {
        "id": "83GehaneXtUb"
      },
      "source": [
        "The coin always flips to head!"
      ]
    },
    {
      "cell_type": "markdown",
      "metadata": {
        "id": "kbyEevjUXtUb"
      },
      "source": [
        "![negative_interference.png](data:image/png;base64,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)"
      ]
    },
    {
      "cell_type": "markdown",
      "metadata": {
        "id": "6itLnWbGXtUb"
      },
      "source": [
        "Since we started from the `H` state we don't notice any interference after the first flip. But when we flip the superposed state, the resulting `T` states interfere negatively, while the `H` states interfere positively. Resulting in the end state always being `H`.\n",
        "\n",
        "Now that we understand both **superposition** and **interference**, we're ready to understand how (most) quantum algorithms work!\n",
        "\n",
        "## What does a quantum algorithm look like?\n",
        "\n",
        "A typical quantum algorithm works in the following way:  \n",
        "\n",
        "* Put the input qubits into a uniform superposed state.\n",
        "* Apply quantum gates causing the states to interfere, transforming the amplitudes (and therefore the probabilities) of the qubits to our desired state.\n",
        "* Measure the output qubits (collapsing the qubit into a regular bit).\n",
        "\n",
        "For the purpose of this article, we will consider [Grover's search algorithm](https://en.wikipedia.org/wiki/Grover%27s_algorithm).\n",
        "\n",
        "Grover's algorithm is a quantum take on linear search - finding an element in a list of `n` unsorted elements.\n",
        "\n",
        "In the regular linear search algorithm, we need to go through n-1 elements in the worst case before we find the element, meaning O(n) worst case time. However, using Grover's search algorithm we can find the element in O(√n) time (with a high probability).\n",
        "\n",
        "So how exactly does Grover's algorithm achieve this speedup?\n",
        "\n",
        "## Grover's search algorithm"
      ]
    },
    {
      "cell_type": "markdown",
      "metadata": {
        "id": "0322-g5AXtUb"
      },
      "source": [
        "Here's the implementation of the algorithm, we'll then split it up and look into how it works."
      ]
    },
    {
      "cell_type": "code",
      "execution_count": 10,
      "metadata": {
        "id": "O0Aik-dwXtUc"
      },
      "outputs": [],
      "source": [
        "class GroverSearch:\n",
        "\n",
        "    def __init__(self, inputList, answerIndex):\n",
        "        self.inputList = inputList\n",
        "        self.answerIndex = answerIndex\n",
        "\n",
        "    def oracle(self, guess):\n",
        "        return guess == self.answerIndex\n",
        "\n",
        "    def groverSeparationGate(self, qubitSet):\n",
        "        transformedAmplitudes = []\n",
        "        for state, amplitude in enumerate(qubitSet.amplitudes):\n",
        "            transformedAmplitudes.append(\n",
        "                -1*amplitude if self.oracle(state) else amplitude)\n",
        "        return QubitSet(transformedAmplitudes)\n",
        "\n",
        "    def meanInversionGate(self, qubitSet):\n",
        "        transformedAmplitudes = []\n",
        "        mean = sum(qubitSet.amplitudes)/qubitSet.numStates()\n",
        "        return QubitSet([2*mean-amplitude for\n",
        "                         amplitude in qubitSet.amplitudes])\n",
        "\n",
        "    def search(self):\n",
        "        listLen = len(self.inputList)\n",
        "        assert(isPowerOfTwo(listLen))\n",
        "        initState = [0]*listLen\n",
        "        initState[0] = 1\n",
        "        uniformSuperposition = hadamard(QubitSet(initState))\n",
        "        inputState = uniformSuperposition\n",
        "        for i in range(math.ceil(math.sqrt(listLen)) - 1):\n",
        "            inputState = self.groverSeparationGate(inputState)\n",
        "            inputState = self.meanInversionGate(inputState)\n",
        "        return inputState"
      ]
    },
    {
      "cell_type": "markdown",
      "metadata": {
        "id": "NFcHKBlSXtUc"
      },
      "source": [
        "Let's consider a 4 element list `[0, 1, 2, 3]`. And let's say that the element we're searching for is `2`."
      ]
    },
    {
      "cell_type": "code",
      "execution_count": 11,
      "metadata": {
        "id": "xxRiR6jmXtUc"
      },
      "outputs": [],
      "source": [
        "groverSearch = GroverSearch([0, 1, 2, 3], 2)"
      ]
    },
    {
      "cell_type": "markdown",
      "metadata": {
        "id": "NwvhqiMHXtUc"
      },
      "source": [
        "To analyze Grover's algorithm, let's consider an oracle. We guess an element in the list, and the oracle tells us if the guess is correct."
      ]
    },
    {
      "cell_type": "code",
      "execution_count": 12,
      "metadata": {
        "id": "8UoRXmw2XtUc"
      },
      "outputs": [],
      "source": [
        "def oracle(self, guess):\n",
        "        return guess == self.answerIndex"
      ]
    },
    {
      "cell_type": "markdown",
      "metadata": {
        "id": "_3qNGg3jXtUc"
      },
      "source": [
        "You might ask - why bother with searching the list if we already know the answer. We'll look at more interesting cases where the oracle is not as simple in the subsequent section.  \n",
        "\n",
        "In the linear search algorithm, we care about the input. We ask the question:\n",
        "\n",
        "> What input can I pick so the oracle responds with true?\n",
        "\n",
        "In Grover's algorithm, we don't care about the input (we can start from any state). We ask a different question:\n",
        "\n",
        "> How do I use the oracle to increase the probability of the answer state from the set of all possible input states?\n",
        "\n",
        "This change of question, also called [change of basis](https://en.wikipedia.org/wiki/Change_of_basis), is enabled by superposition.\n",
        "\n",
        "To simulate such a change of question using a regular bit, for an n-bit qubit, we'd require O(2ⁿ) iterations to generate and O(2ⁿ) space to store the generated state.  \n",
        "An n-qubit quantum state can be put into a superposed state in O(1) time using O(1) space with the Hadamard gate we used above.\n",
        "\n",
        "Grover's search algorithm begins with the `|0>` state."
      ]
    },
    {
      "cell_type": "code",
      "execution_count": 13,
      "metadata": {
        "colab": {
          "base_uri": "https://localhost:8080/"
        },
        "id": "WtorhNZmXtUc",
        "outputId": "cdddfe63-70d1-49b6-a45b-d0313afd5a9f"
      },
      "outputs": [
        {
          "output_type": "stream",
          "name": "stdout",
          "text": [
            "  State    Amplitude    Probability\n",
            "-------  -----------  -------------\n",
            "      0            1              1\n",
            "      1            0              0\n",
            "      2            0              0\n",
            "      3            0              0\n"
          ]
        }
      ],
      "source": [
        "initState = [0]*4\n",
        "initState[0] = 1\n",
        "initQuantumState = QubitSet(initState)\n",
        "initQuantumState.pprint()"
      ]
    },
    {
      "cell_type": "markdown",
      "metadata": {
        "id": "_5dfjSr3XtUc"
      },
      "source": [
        "It then uses the hadamard gate to put the input into a state of uniform superposition."
      ]
    },
    {
      "cell_type": "code",
      "execution_count": 14,
      "metadata": {
        "colab": {
          "base_uri": "https://localhost:8080/"
        },
        "id": "jfX4MKiZXtUd",
        "outputId": "d97c0259-8a30-42cf-d34e-3883188920ce"
      },
      "outputs": [
        {
          "output_type": "stream",
          "name": "stdout",
          "text": [
            "  State    Amplitude    Probability\n",
            "-------  -----------  -------------\n",
            "      0          0.5           0.25\n",
            "      1          0.5           0.25\n",
            "      2          0.5           0.25\n",
            "      3          0.5           0.25\n"
          ]
        }
      ],
      "source": [
        "def hadamard4InputStates(qubitSet):\n",
        "    assert(qubitSet.numStates() == 4)\n",
        "    return QubitSet([1/2*qubitSet.amplitudes[0] +\n",
        "                     1/2*qubitSet.amplitudes[1] +\n",
        "                     1/2*qubitSet.amplitudes[2] +\n",
        "                     1/2*qubitSet.amplitudes[3],\n",
        "                     1/2*qubitSet.amplitudes[0] -\n",
        "                     1/2*qubitSet.amplitudes[1] +\n",
        "                     1/2*qubitSet.amplitudes[2] -\n",
        "                     1/2*qubitSet.amplitudes[3],\n",
        "                     1/2*qubitSet.amplitudes[0] +\n",
        "                     1/2*qubitSet.amplitudes[1] -\n",
        "                     1/2*qubitSet.amplitudes[2] -\n",
        "                     1/2*qubitSet.amplitudes[3],\n",
        "                     1/2*qubitSet.amplitudes[0] -\n",
        "                     1/2*qubitSet.amplitudes[1] -\n",
        "                     1/2*qubitSet.amplitudes[2] +\n",
        "                     1/2*qubitSet.amplitudes[3]])\n",
        "\n",
        "uniformSuperposition = hadamard4InputStates(initQuantumState)\n",
        "uniformSuperposition.pprint()"
      ]
    },
    {
      "cell_type": "markdown",
      "metadata": {
        "id": "WTjsfYp0XtUd"
      },
      "source": [
        "We need a way to separate the `|2>` state (our answer) from the other input states. The oracle comes to our rescue!\n",
        "\n",
        "Grover's algorithm constructs a quantum gate (groverSeparationGate) that operates on the superposed state to do this separation:"
      ]
    },
    {
      "cell_type": "code",
      "execution_count": 15,
      "metadata": {
        "id": "u6Yl4LWpXtUd"
      },
      "outputs": [],
      "source": [
        "def groverSeparationGate(self, qubitSet):\n",
        "        transformedAmplitudes = []\n",
        "        for state, amplitude in enumerate(qubitSet.amplitudes):\n",
        "            transformedAmplitudes.append(\n",
        "                -1*amplitude if self.oracle(state) else amplitude)\n",
        "        return QubitSet(transformedAmplitudes)"
      ]
    },
    {
      "cell_type": "code",
      "execution_count": 16,
      "metadata": {
        "colab": {
          "base_uri": "https://localhost:8080/"
        },
        "id": "-_zM2SfVXtUd",
        "outputId": "6a996fde-aaf9-43d0-a6ad-66202743352c"
      },
      "outputs": [
        {
          "output_type": "stream",
          "name": "stdout",
          "text": [
            "  State    Amplitude    Probability\n",
            "-------  -----------  -------------\n",
            "      0          0.5           0.25\n",
            "      1          0.5           0.25\n",
            "      2         -0.5           0.25\n",
            "      3          0.5           0.25\n"
          ]
        }
      ],
      "source": [
        "separatedQuantumState = groverSearch.groverSeparationGate(uniformSuperposition)\n",
        "separatedQuantumState.pprint()"
      ]
    },
    {
      "cell_type": "markdown",
      "metadata": {
        "id": "ki8Bw3S1XtUd"
      },
      "source": [
        "**Note**: It may appear that we're dealing with O(N) complexity based on the code. However, to a quantum gate, a superposed state is no different than an un-superposed state. An n-qubit quantum gate operates on the n-qubit *state* in O(1) time. It helps to think of the quantum gates as operating on all the states in a superposition in parallel. So in practice, the groverSeparationGate operation takes O(1) time."
      ]
    },
    {
      "cell_type": "markdown",
      "metadata": {
        "id": "0C7I9zYOXtUd"
      },
      "source": [
        "Note that the Grover's separation gate doesn't change the probability of the states. This is not a coincidence. A quantum gate can only do a [*unitary* transformation](https://en.wikipedia.org/wiki/Unitary_transformation). A unitary transformation preserves the total probability of the input states. This makes sense since we only expect to find one of `[0, 1, 2, 3]`, therefore their probabilities should sum to `1`."
      ]
    },
    {
      "cell_type": "markdown",
      "metadata": {
        "id": "ZzQkwGmwXtUe"
      },
      "source": [
        "Now we need a way to increase the probability of state `|2>`. Grover's algorithm uses *mean inversion* to achieve this. Mean inversion inverses the amplitudes about their mean."
      ]
    },
    {
      "cell_type": "code",
      "execution_count": 17,
      "metadata": {
        "id": "-Sj3MP66XtUe"
      },
      "outputs": [],
      "source": [
        "def meanInversionGate(self, qubitSet):\n",
        "        transformedAmplitudes = []\n",
        "        mean = sum(qubitSet.amplitudes)/qubitSet.numStates()\n",
        "        return QubitSet([2*mean-amplitude for amplitude in qubitSet.amplitudes])"
      ]
    },
    {
      "cell_type": "code",
      "execution_count": 18,
      "metadata": {
        "colab": {
          "base_uri": "https://localhost:8080/"
        },
        "id": "tQm68jxeXtUe",
        "outputId": "7148d88f-f448-43ac-b6c4-981b330c7ddd"
      },
      "outputs": [
        {
          "output_type": "stream",
          "name": "stdout",
          "text": [
            "  State    Amplitude    Probability\n",
            "-------  -----------  -------------\n",
            "      0            0              0\n",
            "      1            0              0\n",
            "      2            1              1\n",
            "      3            0              0\n"
          ]
        }
      ],
      "source": [
        "groverSearch.meanInversionGate(separatedQuantumState).pprint()"
      ]
    },
    {
      "cell_type": "markdown",
      "metadata": {
        "id": "kFze3PcDXtUe"
      },
      "source": [
        "In this case we reached our answer with a probability of 1 with just 1 application of the groverSeparation gate and the meanInversion gate!\n",
        "\n",
        "But in general, each application of the separation and mean reversal gates increases the amplitude of our answer state by c/√n, where c is a constant. Therefore we need √n iterations to increase the probability of finding the answer to a constant factor."
      ]
    },
    {
      "cell_type": "markdown",
      "metadata": {
        "id": "uF0jTbxgXtUe"
      },
      "source": [
        "So the Grover's search algorithm looks like this:"
      ]
    },
    {
      "cell_type": "code",
      "execution_count": 19,
      "metadata": {
        "id": "oAa3rcQDXtUe"
      },
      "outputs": [],
      "source": [
        "def search(self):\n",
        "    listLen = len(self.inputList)\n",
        "    assert(isPowerOfTwo(listLen))\n",
        "    initState = [0]*listLen\n",
        "    initState[0] = 1\n",
        "    uniformSuperposition = hadamard(QubitSet(initState))\n",
        "    inputState = uniformSuperposition\n",
        "    for i in range(math.ceil(math.sqrt(listLen)) - 1):\n",
        "        inputState = self.groverSeparationGate(inputState)\n",
        "        inputState = self.meanInversionGate(inputState)\n",
        "    return inputState"
      ]
    },
    {
      "cell_type": "markdown",
      "metadata": {
        "id": "7bbBGUesXtUe"
      },
      "source": [
        "The time complexity of the Grover separation gate is O(1). The time complexity of the mean inversion gate is O(1) too. So the overall time complexity of Grover's algorithm is O(√N), which is a quadratic speedup over the regular O(N) algorithm."
      ]
    },
    {
      "cell_type": "markdown",
      "metadata": {
        "id": "mp1RjrNhXtUe"
      },
      "source": [
        "## What does this speedup mean?\n",
        "\n",
        "If we think of our search problem as searching a database for an element, the oracle is an encoding of the database itself. Clearly we need at least O(N) additional work to build the oracle based on the database. What's the point of Grover's algorithm, if we need to spend at least O(N) time building the oracle from the database anyway?\n",
        "\n",
        "The real power of Grover's algorithm lies in the nature of the oracle. Notice how Grover's algorithm always guarantees to find the solution in O(√N) iterations regardless of what the oracle is. What if the oracle was not a simple `=` checker, but something more complex?\n",
        "\n",
        "The NP complete problems come to mind. A problem is said to be in NP if there's a polynomial time algorithm to verify a solution to the problem.\n",
        "\n",
        "> **We can build an oracle using the verification algorithm. And use Grover's algorithm to find a solution to the problem in O(√N) iterations!**\n",
        "\n",
        "However, note that this doesn't mean *P = NP*. We only achieved a quadratic speedup. So if we needed 2ⁿ iterations to find a solution to the problem earlier, we now require √2ⁿ iterations. But we still require an **exponential** number of iterations.\n",
        "\n",
        "Also, with the current state of quantum computers, we're restricted to [53 qubits](https://www.cnet.com/news/ibm-new-53-qubit-quantum-computer-is-its-biggest-yet/). So there's that.\n",
        "\n",
        "But this is just the beginning for quantum computing!"
      ]
    },
    {
      "cell_type": "markdown",
      "metadata": {
        "id": "0IRx9lCuXtUe"
      },
      "source": [
        "## Conclusion\n",
        "\n",
        "This article is intended as an introduction to quantum algorithms:\n",
        "* We implemented a simulation of qubits and quantum gates.\n",
        "* We implemented Grover's search algorithm using our simulated qubits and quantum gates.\n",
        "* We observed how Grover's algorithm leverages qubit **superposition** and **interference** to achieve a quadratic speedup over the classical linear search algorithm."
      ]
    }
  ],
  "metadata": {
    "kernelspec": {
      "display_name": "Python 3",
      "language": "python",
      "name": "python3"
    },
    "language_info": {
      "codemirror_mode": {
        "name": "ipython",
        "version": 3
      },
      "file_extension": ".py",
      "mimetype": "text/x-python",
      "name": "python",
      "nbconvert_exporter": "python",
      "pygments_lexer": "ipython3",
      "version": "3.8.5"
    },
    "colab": {
      "provenance": []
    }
  },
  "nbformat": 4,
  "nbformat_minor": 0
}